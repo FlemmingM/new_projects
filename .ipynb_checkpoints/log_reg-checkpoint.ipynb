{
 "cells": [
  {
   "cell_type": "markdown",
   "metadata": {},
   "source": [
    "# Logistic Regression from scratch\n",
    "\n",
    "In this notebook, we are going to apply logistic regression on the breast cancer data set from scikit-learn.\n",
    "The algorithm is implemented from scratch and subsequently the training performance is visualised."
   ]
  },
  {
   "cell_type": "code",
   "execution_count": 1,
   "metadata": {
    "colab": {},
    "colab_type": "code",
    "id": "mHQMbiIKWZJT"
   },
   "outputs": [],
   "source": [
    "# import the libraries \n",
    "import numpy as np\n",
    "%matplotlib inline\n",
    "\n",
    "import matplotlib.pyplot as plt\n",
    "from sklearn.linear_model import LogisticRegression\n",
    "from sklearn import datasets\n",
    "import pandas as pd\n",
    "from sklearn.model_selection import train_test_split\n",
    "from sklearn.preprocessing import StandardScaler\n",
    "\n",
    "from IPython import display\n"
   ]
  },
  {
   "cell_type": "code",
   "execution_count": 2,
   "metadata": {
    "colab": {
     "base_uri": "https://localhost:8080/",
     "height": 173
    },
    "colab_type": "code",
    "executionInfo": {
     "elapsed": 2296,
     "status": "ok",
     "timestamp": 1578070856415,
     "user": {
      "displayName": "Basile Rommes",
      "photoUrl": "",
      "userId": "07627898943210652149"
     },
     "user_tz": -60
    },
    "id": "kECJJBaUWZJh",
    "outputId": "6ffb4fb5-1f93-4f7e-8e7b-dee31b61599e"
   },
   "outputs": [
    {
     "name": "stdout",
     "output_type": "stream",
     "text": [
      "   mean radius  mean texture  mean perimeter  mean area  mean smoothness  \\\n",
      "0        17.99         10.38          122.80     1001.0          0.11840   \n",
      "1        20.57         17.77          132.90     1326.0          0.08474   \n",
      "2        19.69         21.25          130.00     1203.0          0.10960   \n",
      "3        11.42         20.38           77.58      386.1          0.14250   \n",
      "4        20.29         14.34          135.10     1297.0          0.10030   \n",
      "\n",
      "   mean compactness  mean concavity  mean concave points  mean symmetry  \\\n",
      "0           0.27760          0.3001              0.14710         0.2419   \n",
      "1           0.07864          0.0869              0.07017         0.1812   \n",
      "2           0.15990          0.1974              0.12790         0.2069   \n",
      "3           0.28390          0.2414              0.10520         0.2597   \n",
      "4           0.13280          0.1980              0.10430         0.1809   \n",
      "\n",
      "   mean fractal dimension  ...  worst texture  worst perimeter  worst area  \\\n",
      "0                 0.07871  ...          17.33           184.60      2019.0   \n",
      "1                 0.05667  ...          23.41           158.80      1956.0   \n",
      "2                 0.05999  ...          25.53           152.50      1709.0   \n",
      "3                 0.09744  ...          26.50            98.87       567.7   \n",
      "4                 0.05883  ...          16.67           152.20      1575.0   \n",
      "\n",
      "   worst smoothness  worst compactness  worst concavity  worst concave points  \\\n",
      "0            0.1622             0.6656           0.7119                0.2654   \n",
      "1            0.1238             0.1866           0.2416                0.1860   \n",
      "2            0.1444             0.4245           0.4504                0.2430   \n",
      "3            0.2098             0.8663           0.6869                0.2575   \n",
      "4            0.1374             0.2050           0.4000                0.1625   \n",
      "\n",
      "   worst symmetry  worst fractal dimension  target  \n",
      "0          0.4601                  0.11890       0  \n",
      "1          0.2750                  0.08902       0  \n",
      "2          0.3613                  0.08758       0  \n",
      "3          0.6638                  0.17300       0  \n",
      "4          0.2364                  0.07678       0  \n",
      "\n",
      "[5 rows x 31 columns]\n",
      "The target names are:  ['malignant' 'benign']\n"
     ]
    }
   ],
   "source": [
    "# import the load_breast_cancer dataset \n",
    "data = datasets.load_breast_cancer()\n",
    "df = pd.DataFrame(data['data'], columns=data['feature_names'])\n",
    "df['target'] = data['target']\n",
    "print(df.head())\n",
    "\n",
    "# print the target names (the spcies of the plants)\n",
    "print('The target names are: ', data.target_names)"
   ]
  },
  {
   "cell_type": "markdown",
   "metadata": {
    "colab_type": "text",
    "id": "hqyvtkokWZJt"
   },
   "source": [
    "# Logistic Regression from scratch\n",
    "\n",
    "\n",
    "The probability that an object belongs to class '1' can be calculated with the sigmoid function: \n",
    "\n",
    "\n",
    "$$ P( y=1 \\; \\big| \\; x, \\, w) = \\dfrac{1}{1 + \\exp(- \\langle w, x \\rangle)} = \\sigma(\\langle w, x \\rangle)$$\n"
   ]
  },
  {
   "cell_type": "code",
   "execution_count": 3,
   "metadata": {
    "colab": {},
    "colab_type": "code",
    "id": "Yl1UguLyWZJv"
   },
   "outputs": [],
   "source": [
    "# Split the data set into train and test set\n",
    "scaler = StandardScaler()\n",
    "X = scaler.fit_transform(df.drop('target', axis=1))\n",
    "y = df['target']\n",
    "X_train, X_test, y_train, y_test = train_test_split(X, y, test_size=0.2, random_state=42)"
   ]
  },
  {
   "cell_type": "code",
   "execution_count": 4,
   "metadata": {
    "colab": {
     "base_uri": "https://localhost:8080/",
     "height": 34
    },
    "colab_type": "code",
    "executionInfo": {
     "elapsed": 2283,
     "status": "ok",
     "timestamp": 1578070856420,
     "user": {
      "displayName": "Basile Rommes",
      "photoUrl": "",
      "userId": "07627898943210652149"
     },
     "user_tz": -60
    },
    "id": "WYuMPLXKWZJ1",
    "outputId": "1b552177-0e58-47bb-8d71-4bb5887cac56"
   },
   "outputs": [
    {
     "data": {
      "text/plain": [
       "0"
      ]
     },
     "execution_count": 4,
     "metadata": {},
     "output_type": "execute_result"
    }
   ],
   "source": [
    "(X_train == 0).sum() # no 0 entries which would raise an error for 'by zero division'\n",
    "#X_train"
   ]
  },
  {
   "cell_type": "code",
   "execution_count": 5,
   "metadata": {
    "colab": {},
    "colab_type": "code",
    "id": "S2oqEtmUWZJ-"
   },
   "outputs": [],
   "source": [
    "def sigmoid(features, weights, eps = 1e-7):\n",
    "    probas = 1/(1 + np.exp(- np.dot(features, weights)))\n",
    "    probas = probas + eps \n",
    "    return probas"
   ]
  },
  {
   "cell_type": "markdown",
   "metadata": {
    "colab_type": "text",
    "id": "EIXUafXcWZKE"
   },
   "source": [
    "## Loss function in Logistic regression\n",
    "\n",
    "Here, the cross-entropy must be minimized with the following formular:\n",
    "\n",
    "Loss for one sample: $$ l(x_i, y_i, w) = - \\left[ {y_i \\cdot log P(y_i = 1 \\, | \\, x_i,w) + (1-y_i) \\cdot log (1-P(y_i = 1\\, | \\, x_i,w))}\\right] $$\n",
    "\n",
    "Loss for many samples: $$ L(X, \\vec{y}, w) =  {1 \\over \\ell} \\sum_{i=1}^\\ell l(x_i, y_i, w) $$"
   ]
  },
  {
   "cell_type": "code",
   "execution_count": 6,
   "metadata": {
    "colab": {},
    "colab_type": "code",
    "id": "qFeLtXexWZKF"
   },
   "outputs": [],
   "source": [
    "def get_loss(features, labels, weights):\n",
    "    return (-(labels * np.log(sigmoid(features, weights)) + (1 - labels) * np.log(1 - sigmoid(features, weights)))).mean()\n"
   ]
  },
  {
   "cell_type": "markdown",
   "metadata": {
    "colab_type": "text",
    "id": "pH7kPwCSWZKL"
   },
   "source": [
    "## Gradient descent\n",
    "\n",
    "$$ \\nabla_w L = {1 \\over \\ell} \\sum_{i=1}^\\ell \\nabla_w l(x_i, y_i, w) $$ "
   ]
  },
  {
   "cell_type": "code",
   "execution_count": 7,
   "metadata": {
    "colab": {},
    "colab_type": "code",
    "id": "OLPXJw4gWZKM"
   },
   "outputs": [],
   "source": [
    "def get_gradient(features, labels, weights):\n",
    "    preds = sigmoid(features , weights)\n",
    "    #print(preds)\n",
    "    grad = np.dot(features.T , preds - labels)\n",
    "    #print(grad)\n",
    "    grad /= len(features)\n",
    "\n",
    "    return grad\n",
    "    "
   ]
  },
  {
   "cell_type": "markdown",
   "metadata": {
    "colab_type": "text",
    "id": "iZxViZf8WZKT"
   },
   "source": [
    "## Stochastic gradient descent - Training \n",
    "\n",
    "$$ w_t = w_{t-1} - \\eta \\dfrac{1}{m} \\sum_{j=1}^m \\nabla_w l(x_{i_j}, y_{i_j}, w_t) $$\n"
   ]
  },
  {
   "cell_type": "code",
   "execution_count": 8,
   "metadata": {
    "colab": {
     "base_uri": "https://localhost:8080/",
     "height": 69
    },
    "colab_type": "code",
    "executionInfo": {
     "elapsed": 2261,
     "status": "ok",
     "timestamp": 1578070856425,
     "user": {
      "displayName": "Basile Rommes",
      "photoUrl": "",
      "userId": "07627898943210652149"
     },
     "user_tz": -60
    },
    "id": "QVdcgOJXWZKV",
    "outputId": "8cd8c04a-4251-43b5-8bd6-98261f8fd103"
   },
   "outputs": [
    {
     "data": {
      "text/plain": [
       "1    357\n",
       "0    212\n",
       "Name: target, dtype: int64"
      ]
     },
     "execution_count": 8,
     "metadata": {},
     "output_type": "execute_result"
    }
   ],
   "source": [
    "# Check how many classes of each class exist\n",
    "df.target.value_counts()"
   ]
  },
  {
   "cell_type": "code",
   "execution_count": 9,
   "metadata": {
    "colab": {},
    "colab_type": "code",
    "id": "noC9TsyJWZKa"
   },
   "outputs": [],
   "source": [
    "def decision_boundary(prob, threshold = 0.5):\n",
    "    probas = []\n",
    "    for i in prob:\n",
    "        if i >= threshold:\n",
    "            probas.append(1)\n",
    "        else:\n",
    "            probas.append(0)\n",
    "    return probas"
   ]
  },
  {
   "cell_type": "code",
   "execution_count": 10,
   "metadata": {
    "colab": {
     "base_uri": "https://localhost:8080/",
     "height": 607
    },
    "colab_type": "code",
    "executionInfo": {
     "elapsed": 10,
     "status": "ok",
     "timestamp": 1578070928099,
     "user": {
      "displayName": "Basile Rommes",
      "photoUrl": "",
      "userId": "07627898943210652149"
     },
     "user_tz": -60
    },
    "id": "j8hUG7WqWZKg",
    "outputId": "776dfe98-ddf0-4f89-f5e2-d3e111978d49"
   },
   "outputs": [
    {
     "data": {
      "image/png": "[encoded data removed]",
      "text/plain": [
       "<Figure size 1440x720 with 2 Axes>"
      ]
     },
     "metadata": {
      "needs_background": "light"
     },
     "output_type": "display_data"
    }
   ],
   "source": [
    "# First, set a seed to make the results reproducible\n",
    "np.random.seed(42)\n",
    "\n",
    "# Initialize an array with weights\n",
    "weights = np.linspace(-1, 1, X_train.shape[1])\n",
    "#print(weights.shape)\n",
    "\n",
    "\n",
    "\n",
    "eta= 0.1 # learning rate\n",
    "\n",
    "n_iter = 1000\n",
    "batch_size = 100\n",
    "loss = np.zeros(n_iter)\n",
    "accuracies = []\n",
    "#plt.figure(figsize=(12, 5))\n",
    "\n",
    "for i in range(n_iter):\n",
    "    ind = np.random.choice(X_train.shape[0], batch_size)\n",
    "    #print(ind)\n",
    "    loss[i] = get_loss(X_train, y_train, weights)\n",
    "    #print(loss[i])\n",
    "    #print(X[ind,:].shape)\n",
    "    #print(y[ind].shape)\n",
    "    # Keep in mind that compute_grad already does averaging over the batch \n",
    "    gradient = get_gradient(X_train, y_train, weights)\n",
    "    gradient = gradient * eta\n",
    "    #print(i, gradient)\n",
    "    weights = weights - gradient\n",
    "    #print(i, weights)\n",
    "    pred_labels = decision_boundary(sigmoid(features = X_train, weights = weights))\n",
    "    #print(pred_labels)\n",
    "    acc = (y_train == pred_labels).mean()\n",
    "    accuracies.append(acc)\n",
    "    \n",
    "    \n",
    "    if i % 100 == 0 or i == 999:\n",
    "        \n",
    "        fig, (ax1, ax2) = plt.subplots(1, 2, gridspec_kw={'hspace': 0, 'wspace': 0.2})\n",
    "        fig.set_size_inches(20, 10, forward=True)\n",
    "        ax1.plot(loss)\n",
    "        #ax1.set_size_inches(8,4, forward = True)\n",
    "        ax1.set_title('loss at iteration : {} is {}'.format(i, loss[i].round(3)))\n",
    "        ax2.plot(accuracies, c='red')\n",
    "        ax2.set_title('accuracy at iteration : {} is {}'.format(i, accuracies[i].round(3)))\n",
    "        display.clear_output(wait=True)\n",
    "        plt.show()\n",
    "        #plt.clf()\n",
    "    #plt.plot([*range(acc)], acc)\n",
    "    \n",
    "\n",
    "\n",
    "#visualize(X_train, y_train, w, loss)\n",
    "#plt.clf()"
   ]
  },
  {
   "cell_type": "code",
   "execution_count": 11,
   "metadata": {
    "colab": {
     "base_uri": "https://localhost:8080/",
     "height": 34
    },
    "colab_type": "code",
    "executionInfo": {
     "elapsed": 11081,
     "status": "ok",
     "timestamp": 1578070865268,
     "user": {
      "displayName": "Basile Rommes",
      "photoUrl": "",
      "userId": "07627898943210652149"
     },
     "user_tz": -60
    },
    "id": "PNYIg9FzWZKm",
    "outputId": "1266243e-9486-4af2-f200-931a2c61e89c"
   },
   "outputs": [
    {
     "name": "stdout",
     "output_type": "stream",
     "text": [
      "0.9736842105263158\n"
     ]
    }
   ],
   "source": [
    "# Let's now get the test accuracy\n",
    "test_preds = decision_boundary(sigmoid(X_test, weights))\n",
    "test_acc = (y_test == test_preds).mean()\n",
    "print(test_acc)"
   ]
  },
  {
   "cell_type": "markdown",
   "metadata": {
    "colab_type": "text",
    "id": "5ZT8llDPWZKr"
   },
   "source": [
    "A test accuracy of 97% isn't that bad for a linear classifier!! "
   ]
  }
 ],
 "metadata": {
  "colab": {
   "name": "log_reg.ipynb",
   "provenance": []
  },
  "kernelspec": {
   "display_name": "Python 3",
   "language": "python",
   "name": "python3"
  },
  "language_info": {
   "codemirror_mode": {
    "name": "ipython",
    "version": 3
   },
   "file_extension": ".py",
   "mimetype": "text/x-python",
   "name": "python",
   "nbconvert_exporter": "python",
   "pygments_lexer": "ipython3",
   "version": "3.7.3"
  }
 },
 "nbformat": 4,
 "nbformat_minor": 4
}
