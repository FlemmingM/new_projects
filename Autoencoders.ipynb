{
 "cells": [
  {
   "cell_type": "markdown",
   "metadata": {
    "colab_type": "text",
    "id": "wCBz-pq7ivda"
   },
   "source": [
    "# Denoising Autoencoders And Where To Find Them\n",
    "\n",
    "Today we're going to train deep autoencoders and apply them to faces and similar images search.\n",
    "\n",
    "Our new test subjects are human faces from the [lfw dataset](http://vis-www.cs.umass.edu/lfw/)."
   ]
  },
  {
   "cell_type": "markdown",
   "metadata": {
    "colab_type": "text",
    "id": "jT_N0rD3ivdq"
   },
   "source": [
    "# Import"
   ]
  },
  {
   "cell_type": "code",
   "execution_count": null,
   "metadata": {
    "ExecuteTime": {
     "end_time": "2018-01-04T16:38:45.815533Z",
     "start_time": "2018-01-04T16:38:45.767828Z"
    },
    "colab": {},
    "colab_type": "code",
    "id": "y9O91agzivd3"
   },
   "outputs": [],
   "source": [
    "import sys\n",
    "sys.path.append(\"..\")"
   ]
  },
  {
   "cell_type": "code",
   "execution_count": 3,
   "metadata": {
    "ExecuteTime": {
     "end_time": "2018-01-04T16:38:56.825485Z",
     "start_time": "2018-01-04T16:38:46.131894Z"
    },
    "colab": {
     "base_uri": "https://localhost:8080/",
     "height": 84
    },
    "colab_type": "code",
    "executionInfo": {
     "elapsed": 36572,
     "status": "ok",
     "timestamp": 1573762578815,
     "user": {
      "displayName": "Flemming Morsch",
      "photoUrl": "",
      "userId": "01018764111607282372"
     },
     "user_tz": -60
    },
    "id": "iOqCRzG3ivei",
    "outputId": "adb64398-c0dc-4304-c419-ba0c623d09b6"
   },
   "outputs": [
    {
     "data": {
      "text/html": [
       "<p style=\"color: red;\">\n",
       "The default version of TensorFlow in Colab will soon switch to TensorFlow 2.x.<br>\n",
       "We recommend you <a href=\"https://www.tensorflow.org/guide/migrate\" target=\"_blank\">upgrade</a> now \n",
       "or ensure your notebook will continue to use TensorFlow 1.x via the <code>%tensorflow_version 1.x</code> magic:\n",
       "<a href=\"https://colab.research.google.com/notebooks/tensorflow_version.ipynb\" target=\"_blank\">more info</a>.</p>\n"
      ],
      "text/plain": [
       "<IPython.core.display.HTML object>"
      ]
     },
     "metadata": {
      "tags": []
     },
     "output_type": "display_data"
    },
    {
     "name": "stderr",
     "output_type": "stream",
     "text": [
      "Using TensorFlow backend.\n"
     ]
    }
   ],
   "source": [
    "import tensorflow as tf\n",
    "import keras, keras.layers as L, keras.backend as K\n",
    "import numpy as np\n",
    "from sklearn.model_selection import train_test_split\n",
    "from lfw_dataset import load_lfw_dataset\n",
    "%matplotlib inline\n",
    "import matplotlib.pyplot as plt\n",
    "import download_utils\n",
    "import keras_utils\n",
    "import numpy as np\n",
    "from keras_utils import reset_tf_session"
   ]
  },
  {
   "cell_type": "code",
   "execution_count": null,
   "metadata": {
    "ExecuteTime": {
     "end_time": "2018-01-04T16:38:56.830804Z",
     "start_time": "2018-01-04T16:38:56.827147Z"
    },
    "colab": {},
    "colab_type": "code",
    "id": "8ygoC3hbive_"
   },
   "outputs": [],
   "source": [
    "# !!! remember to clear session/graph if you rebuild your graph to avoid out-of-memory errors !!!"
   ]
  },
  {
   "cell_type": "markdown",
   "metadata": {
    "colab_type": "text",
    "id": "CBoLkxhMivf8"
   },
   "source": [
    "# Load dataset\n",
    "Dataset was downloaded for you. Relevant links (just in case):\n",
    "- http://www.cs.columbia.edu/CAVE/databases/pubfig/download/lfw_attributes.txt\n",
    "- http://vis-www.cs.umass.edu/lfw/lfw-deepfunneled.tgz\n",
    "- http://vis-www.cs.umass.edu/lfw/lfw.tgz"
   ]
  },
  {
   "cell_type": "code",
   "execution_count": null,
   "metadata": {
    "ExecuteTime": {
     "end_time": "2018-01-04T16:38:56.917476Z",
     "start_time": "2018-01-04T16:38:56.832132Z"
    },
    "colab": {},
    "colab_type": "code",
    "id": "kBtu8Ih9ivgC"
   },
   "outputs": [],
   "source": [
    "# we downloaded them for you, just link them here\n",
    "download_utils.link_week_4_resources()"
   ]
  },
  {
   "cell_type": "code",
   "execution_count": 6,
   "metadata": {
    "ExecuteTime": {
     "end_time": "2018-01-04T16:39:21.680162Z",
     "start_time": "2018-01-04T16:39:01.554782Z"
    },
    "colab": {
     "base_uri": "https://localhost:8080/",
     "height": 54
    },
    "colab_type": "code",
    "executionInfo": {
     "elapsed": 53197,
     "status": "ok",
     "timestamp": 1573762595515,
     "user": {
      "displayName": "Flemming Morsch",
      "photoUrl": "",
      "userId": "01018764111607282372"
     },
     "user_tz": -60
    },
    "id": "TUY5ytArivgd",
    "outputId": "f91efc3b-e4ef-4fe5-c421-e5a97e8ae427"
   },
   "outputs": [
    {
     "name": "stdout",
     "output_type": "stream",
     "text": [
      "**************************************************\n",
      "\n"
     ]
    }
   ],
   "source": [
    "# load images\n",
    "X, attr = load_lfw_dataset(use_raw=True, dimx=32, dimy=32)\n",
    "IMG_SHAPE = X.shape[1:]\n",
    "\n",
    "# center images\n",
    "X = X.astype('float32') / 255.0 - 0.5\n",
    "\n",
    "# split\n",
    "X_train, X_test = train_test_split(X, test_size=0.1, random_state=42)"
   ]
  },
  {
   "cell_type": "code",
   "execution_count": null,
   "metadata": {
    "ExecuteTime": {
     "end_time": "2018-01-04T16:39:36.649891Z",
     "start_time": "2018-01-04T16:39:36.646605Z"
    },
    "colab": {},
    "colab_type": "code",
    "id": "FgZSC1d6ivgz"
   },
   "outputs": [],
   "source": [
    "def show_image(x):\n",
    "    plt.imshow(np.clip(x + 0.5, 0, 1))"
   ]
  },
  {
   "cell_type": "code",
   "execution_count": 8,
   "metadata": {
    "ExecuteTime": {
     "end_time": "2018-01-04T16:39:39.028360Z",
     "start_time": "2018-01-04T16:39:38.258425Z"
    },
    "colab": {
     "base_uri": "https://localhost:8080/",
     "height": 323
    },
    "colab_type": "code",
    "executionInfo": {
     "elapsed": 53809,
     "status": "ok",
     "timestamp": 1573762596175,
     "user": {
      "displayName": "Flemming Morsch",
      "photoUrl": "",
      "userId": "01018764111607282372"
     },
     "user_tz": -60
    },
    "id": "aruDF_zFivhJ",
    "outputId": "c8d59b71-ac80-43c5-d86b-4d8bb556f6e0"
   },
   "outputs": [
    {
     "name": "stdout",
     "output_type": "stream",
     "text": [
      "X shape: (13143, 32, 32, 3)\n",
      "attr shape: (13143, 73)\n"
     ]
    },
    {
     "data": {
      "text/plain": [
       "1405"
      ]
     },
     "execution_count": 8,
     "metadata": {
      "tags": []
     },
     "output_type": "execute_result"
    },
    {
     "data": {
      "image/png": "[encoded data removed]",
      "text/plain": [
       "<Figure size 432x288 with 6 Axes>"
      ]
     },
     "metadata": {
      "tags": []
     },
     "output_type": "display_data"
    }
   ],
   "source": [
    "plt.title('sample images')\n",
    "\n",
    "for i in range(6):\n",
    "    plt.subplot(2,3,i+1)\n",
    "    show_image(X[i])\n",
    "\n",
    "print(\"X shape:\", X.shape)\n",
    "print(\"attr shape:\", attr.shape)\n",
    "\n",
    "# try to free memory\n",
    "del X\n",
    "import gc\n",
    "gc.collect()"
   ]
  },
  {
   "cell_type": "markdown",
   "metadata": {
    "colab_type": "text",
    "id": "FmPDiMvaivhm"
   },
   "source": [
    "# Autoencoder architecture\n",
    "\n",
    "Let's design autoencoder as two sequential keras models: the encoder and decoder respectively.\n",
    "\n",
    "We will then use symbolic API to apply and train these models.\n",
    "\n",
    "<img src=\"https://github.com/hse-aml/intro-to-dl/blob/master/week4/images/autoencoder.png?raw=1\" style=\"width:50%\">"
   ]
  },
  {
   "cell_type": "markdown",
   "metadata": {
    "colab_type": "text",
    "id": "sj-yvC2wivhv"
   },
   "source": [
    "# First step: PCA\n",
    "\n",
    "Principial Component Analysis is a popular dimensionality reduction method. \n",
    "\n",
    "Under the hood, PCA attempts to decompose object-feature matrix $X$ into two smaller matrices: $W$ and $\\hat W$ minimizing _mean squared error_:\n",
    "\n",
    "$$\\|(X W) \\hat{W} - X\\|^2_2 \\to_{W, \\hat{W}} \\min$$\n",
    "- $X \\in \\mathbb{R}^{n \\times m}$ - object matrix (**centered**);\n",
    "- $W \\in \\mathbb{R}^{m \\times d}$ - matrix of direct transformation;\n",
    "- $\\hat{W} \\in \\mathbb{R}^{d \\times m}$ - matrix of reverse transformation;\n",
    "- $n$ samples, $m$ original dimensions and $d$ target dimensions;\n",
    "\n",
    "In geometric terms, we want to find d axes along which most of variance occurs. The \"natural\" axes, if you wish.\n",
    "\n",
    "<img src=\"https://github.com/hse-aml/intro-to-dl/blob/master/week4/images/pca.png?raw=1\" style=\"width:30%\">\n",
    "\n",
    "\n",
    "PCA can also be seen as a special case of an autoencoder.\n",
    "\n",
    "* __Encoder__: X -> Dense(d units) -> code\n",
    "* __Decoder__: code -> Dense(m units) -> X\n",
    "\n",
    "Where Dense is a fully-connected layer with linear activaton:   $f(X) = W \\cdot X + \\vec b $\n",
    "\n",
    "\n",
    "Note: the bias term in those layers is responsible for \"centering\" the matrix i.e. substracting mean."
   ]
  },
  {
   "cell_type": "code",
   "execution_count": null,
   "metadata": {
    "ExecuteTime": {
     "end_time": "2018-01-04T16:39:42.058684Z",
     "start_time": "2018-01-04T16:39:42.046303Z"
    },
    "colab": {},
    "colab_type": "code",
    "id": "ldS2ofH2ivh4"
   },
   "outputs": [],
   "source": [
    "def build_pca_autoencoder(img_shape, code_size):\n",
    "    \"\"\"\n",
    "    Here we define a simple linear autoencoder as described above.\n",
    "    We also flatten and un-flatten data to be compatible with image shapes\n",
    "    \"\"\"\n",
    "    \n",
    "    encoder = keras.models.Sequential()\n",
    "    encoder.add(L.InputLayer(img_shape))\n",
    "    encoder.add(L.Flatten())                  #flatten image to vector\n",
    "    encoder.add(L.Dense(code_size))           #actual encoder\n",
    "\n",
    "    decoder = keras.models.Sequential()\n",
    "    decoder.add(L.InputLayer((code_size,)))\n",
    "    decoder.add(L.Dense(np.prod(img_shape)))  #actual decoder, height*width*3 units\n",
    "    decoder.add(L.Reshape(img_shape))         #un-flatten\n",
    "    \n",
    "    return encoder,decoder"
   ]
  },
  {
   "cell_type": "markdown",
   "metadata": {
    "colab_type": "text",
    "id": "alh29Dj8iviR"
   },
   "source": [
    "Meld them together into one model:"
   ]
  },
  {
   "cell_type": "code",
   "execution_count": null,
   "metadata": {
    "ExecuteTime": {
     "end_time": "2018-01-04T16:41:04.366409Z",
     "start_time": "2018-01-04T16:40:45.919042Z"
    },
    "colab": {},
    "colab_type": "code",
    "id": "GCjv6Vflivib",
    "scrolled": true
   },
   "outputs": [],
   "source": [
    "s = reset_tf_session()\n",
    "\n",
    "encoder, decoder = build_pca_autoencoder(IMG_SHAPE, code_size=32)\n",
    "\n",
    "inp = L.Input(IMG_SHAPE)\n",
    "code = encoder(inp)\n",
    "reconstruction = decoder(code)\n",
    "\n",
    "autoencoder = keras.models.Model(inputs=inp, outputs=reconstruction)\n",
    "autoencoder.compile(optimizer='adamax', loss='mse')\n",
    "\n",
    "autoencoder.fit(x=X_train, y=X_train, epochs=15,\n",
    "                validation_data=[X_test, X_test],\n",
    "                callbacks=[keras_utils.TqdmProgressCallback()],\n",
    "                verbose=0)"
   ]
  },
  {
   "cell_type": "code",
   "execution_count": null,
   "metadata": {
    "ExecuteTime": {
     "end_time": "2018-01-04T16:41:11.747674Z",
     "start_time": "2018-01-04T16:41:11.730725Z"
    },
    "colab": {},
    "colab_type": "code",
    "id": "tgMhNcf7iviz"
   },
   "outputs": [],
   "source": [
    "def visualize(img,encoder,decoder):\n",
    "    \"\"\"Draws original, encoded and decoded images\"\"\"\n",
    "    code = encoder.predict(img[None])[0]  # img[None] is the same as img[np.newaxis, :]\n",
    "    reco = decoder.predict(code[None])[0]\n",
    "\n",
    "    plt.subplot(1,3,1)\n",
    "    plt.title(\"Original\")\n",
    "    show_image(img)\n",
    "\n",
    "    plt.subplot(1,3,2)\n",
    "    plt.title(\"Code\")\n",
    "    plt.imshow(code.reshape([code.shape[-1]//2,-1]))\n",
    "\n",
    "    plt.subplot(1,3,3)\n",
    "    plt.title(\"Reconstructed\")\n",
    "    show_image(reco)\n",
    "    plt.show()\n"
   ]
  },
  {
   "cell_type": "code",
   "execution_count": null,
   "metadata": {
    "ExecuteTime": {
     "end_time": "2018-01-04T16:41:18.700138Z",
     "start_time": "2018-01-04T16:41:17.026047Z"
    },
    "colab": {},
    "colab_type": "code",
    "id": "CTqG8gGPivjG",
    "scrolled": true
   },
   "outputs": [],
   "source": [
    "score = autoencoder.evaluate(X_test,X_test,verbose=0)\n",
    "print(\"PCA MSE:\", score)\n",
    "\n",
    "for i in range(5):\n",
    "    img = X_test[i]\n",
    "    visualize(img,encoder,decoder)"
   ]
  },
  {
   "cell_type": "markdown",
   "metadata": {
    "colab_type": "text",
    "id": "WchsikavivjZ"
   },
   "source": [
    "# Going deeper: convolutional autoencoder\n",
    "\n",
    "PCA is neat but surely we can do better. This time we want you to build a deep convolutional autoencoder by... stacking more layers.\n",
    "\n",
    "## Encoder\n",
    "\n",
    "The **encoder** part is pretty standard, we stack convolutional and pooling layers and finish with a dense layer to get the representation of desirable size (`code_size`).\n",
    "\n",
    "We recommend to use `activation='elu'` for all convolutional and dense layers.\n",
    "\n",
    "We recommend to repeat (conv, pool) 4 times with kernel size (3, 3), `padding='same'` and the following numbers of output channels: `32, 64, 128, 256`.\n",
    "\n",
    "Remember to flatten (`L.Flatten()`) output before adding the last dense layer!\n",
    "\n",
    "## Decoder\n",
    "\n",
    "For **decoder** we will use so-called \"transpose convolution\". \n",
    "\n",
    "Traditional convolutional layer takes a patch of an image and produces a number (patch -> number). In \"transpose convolution\" we want to take a number and produce a patch of an image (number -> patch). We need this layer to \"undo\" convolutions in encoder. We had a glimpse of it during week 3 (watch [this video](https://www.coursera.org/learn/intro-to-deep-learning/lecture/auRqf/a-glimpse-of-other-computer-vision-tasks) starting at 5:41).\n",
    "\n",
    "Here's how \"transpose convolution\" works:\n",
    "<img src=\"https://github.com/hse-aml/intro-to-dl/blob/master/week4/images/transpose_conv.jpg?raw=1\" style=\"width:60%\">\n",
    "In this example we use a stride of 2 to produce 4x4 output, this way we \"undo\" pooling as well. Another way to think about it: we \"undo\" convolution with stride 2 (which is similar to conv + pool).\n",
    "\n",
    "You can add \"transpose convolution\" layer in Keras like this:\n",
    "```python\n",
    "L.Conv2DTranspose(filters=?, kernel_size=(3, 3), strides=2, activation='elu', padding='same')\n",
    "```\n",
    "\n",
    "Our decoder starts with a dense layer to \"undo\" the last layer of encoder. Remember to reshape its output to \"undo\" `L.Flatten()` in encoder.\n",
    "\n",
    "Now we're ready to undo (conv, pool) pairs. For this we need to stack 4 `L.Conv2DTranspose` layers with the following numbers of output channels: `128, 64, 32, 3`. Each of these layers will learn to \"undo\" (conv, pool) pair in encoder. For the last `L.Conv2DTranspose` layer use `activation=None` because that is our final image."
   ]
  },
  {
   "cell_type": "code",
   "execution_count": null,
   "metadata": {
    "ExecuteTime": {
     "end_time": "2018-01-04T16:43:33.562406Z",
     "start_time": "2018-01-04T16:43:33.426581Z"
    },
    "colab": {},
    "colab_type": "code",
    "id": "mkBHGMA9ivjk",
    "scrolled": true
   },
   "outputs": [],
   "source": [
    "# Let's play around with transpose convolution on examples first\n",
    "def test_conv2d_transpose(img_size, filter_size):\n",
    "    print(\"Transpose convolution test for img_size={}, filter_size={}:\".format(img_size, filter_size))\n",
    "    \n",
    "    x = (np.arange(img_size ** 2, dtype=np.float32) + 1).reshape((1, img_size, img_size, 1))\n",
    "    f = (np.ones(filter_size ** 2, dtype=np.float32)).reshape((filter_size, filter_size, 1, 1))\n",
    "\n",
    "    s = reset_tf_session()\n",
    "    \n",
    "    conv = tf.nn.conv2d_transpose(x, f, \n",
    "                                  output_shape=(1, img_size * 2, img_size * 2, 1), \n",
    "                                  strides=[1, 2, 2, 1], \n",
    "                                  padding='SAME')\n",
    "\n",
    "    result = s.run(conv)\n",
    "    print(\"input:\")\n",
    "    print(x[0, :, :, 0])\n",
    "    print(\"filter:\")\n",
    "    print(f[:, :, 0, 0])\n",
    "    print(\"output:\")\n",
    "    print(result[0, :, :, 0])\n",
    "    s.close()\n",
    "        \n",
    "test_conv2d_transpose(img_size=2, filter_size=2)\n",
    "test_conv2d_transpose(img_size=2, filter_size=3)\n",
    "test_conv2d_transpose(img_size=4, filter_size=2)\n",
    "test_conv2d_transpose(img_size=4, filter_size=3)"
   ]
  },
  {
   "cell_type": "code",
   "execution_count": null,
   "metadata": {
    "ExecuteTime": {
     "end_time": "2018-01-04T16:44:43.582011Z",
     "start_time": "2018-01-04T16:44:43.516283Z"
    },
    "colab": {},
    "colab_type": "code",
    "id": "2AheWaNkivj8"
   },
   "outputs": [],
   "source": [
    "def build_deep_autoencoder(img_shape, code_size):\n",
    "    \"\"\"PCA's deeper brother. See instructions above. Use `code_size` in layer definitions.\"\"\"\n",
    "    H,W,C = img_shape\n",
    "    \n",
    "    # encoder\n",
    "    encoder = keras.models.Sequential()\n",
    "    encoder.add(L.InputLayer(img_shape))\n",
    "\n",
    "    encoder.add(L.Conv2D(kernel_size=(3,3), padding='same', filters=32, activation='elu'))\n",
    "    encoder.add(L.MaxPooling2D(pool_size=(2,2)))\n",
    "    encoder.add(L.Conv2D(kernel_size=(3,3), padding='same', filters=64, activation='elu'))\n",
    "    encoder.add(L.MaxPooling2D(pool_size=(2,2)))\n",
    "    encoder.add(L.Conv2D(kernel_size=(3,3), padding='same', filters=128, activation='elu'))\n",
    "    encoder.add(L.MaxPooling2D(pool_size=(2,2)))\n",
    "    encoder.add(L.Conv2D(kernel_size=(3,3), padding='same', filters=256, activation='elu'))\n",
    "    encoder.add(L.MaxPooling2D(pool_size=(2,2)))\n",
    "    encoder.add(L.Flatten())\n",
    "    encoder.add(L.Dense(code_size, activation='elu')) \n",
    "    #print(encoder.summary())\n",
    "    #print(encoder.output_shape[1:])\n",
    "\n",
    "    # decoder\n",
    "    decoder = keras.models.Sequential()\n",
    "    decoder.add(L.InputLayer((code_size,)))\n",
    "    decoder.add(L.Dense(1024, activation = 'elu'))\n",
    "    #decoder.add(L.Dense(1024, activation = 'elu'))\n",
    "    decoder.add(L.Reshape((2,2,256)))\n",
    "    # #decoder.add(L.Reshape((code_size,1,1)))\n",
    "    # #decoder.add(L.Conv2DTranspose(filters=256, kernel_size=(3, 3), strides=2, activation='elu', padding='same'))\n",
    "\n",
    "    decoder.add(L.Conv2DTranspose(filters=128, kernel_size=(3, 3), strides=2, activation='elu', padding='same'))\n",
    "    decoder.add(L.Conv2DTranspose(filters=64, kernel_size=(3, 3), strides=2, activation='elu', padding='same'))\n",
    "    decoder.add(L.Conv2DTranspose(filters=32, kernel_size=(3, 3), strides=2, activation='elu', padding='same'))\n",
    "    decoder.add(L.Conv2DTranspose(filters=3, kernel_size=(3, 3), strides=2, activation= None, padding='same'))\n",
    "    #print(decoder.summary())\n",
    "    \n",
    "    return encoder, decoder"
   ]
  },
  {
   "cell_type": "code",
   "execution_count": 127,
   "metadata": {
    "ExecuteTime": {
     "end_time": "2018-01-04T16:44:53.805124Z",
     "start_time": "2018-01-04T16:44:52.846510Z"
    },
    "colab": {
     "base_uri": "https://localhost:8080/",
     "height": 128
    },
    "colab_type": "code",
    "executionInfo": {
     "elapsed": 1888,
     "status": "ok",
     "timestamp": 1573768466934,
     "user": {
      "displayName": "Flemming Morsch",
      "photoUrl": "",
      "userId": "01018764111607282372"
     },
     "user_tz": -60
    },
    "id": "Xk88gJv3ivkR",
    "outputId": "c60c2269-f894-4786-f3bf-7484b2c76d12"
   },
   "outputs": [
    {
     "name": "stdout",
     "output_type": "stream",
     "text": [
      "Testing code size 1\n",
      "Testing code size 8\n",
      "Testing code size 32\n",
      "Testing code size 128\n",
      "Testing code size 512\n",
      "All tests passed!\n"
     ]
    }
   ],
   "source": [
    "# Check autoencoder shapes along different code_sizes\n",
    "get_dim = lambda layer: np.prod(layer.output_shape[1:])\n",
    "for code_size in [1,8,32,128,512]:\n",
    "    s = reset_tf_session()\n",
    "    encoder, decoder = build_deep_autoencoder(IMG_SHAPE, code_size=code_size)\n",
    "    print(\"Testing code size %i\" % code_size)\n",
    "    assert encoder.output_shape[1:]==(code_size,),\"encoder must output a code of required size\"\n",
    "    assert decoder.output_shape[1:]==IMG_SHAPE,   \"decoder must output an image of valid shape\"\n",
    "    assert len(encoder.trainable_weights)>=6,     \"encoder must contain at least 3 layers\"\n",
    "    assert len(decoder.trainable_weights)>=6,     \"decoder must contain at least 3 layers\"\n",
    "    \n",
    "    for layer in encoder.layers + decoder.layers:\n",
    "        assert get_dim(layer) >= code_size, \"Encoder layer %s is smaller than bottleneck (%i units)\"%(layer.name,get_dim(layer))\n",
    "\n",
    "print(\"All tests passed!\")\n",
    "s = reset_tf_session()"
   ]
  },
  {
   "cell_type": "code",
   "execution_count": 128,
   "metadata": {
    "ExecuteTime": {
     "end_time": "2018-01-04T16:45:16.966538Z",
     "start_time": "2018-01-04T16:45:16.804252Z"
    },
    "colab": {
     "base_uri": "https://localhost:8080/",
     "height": 945
    },
    "colab_type": "code",
    "executionInfo": {
     "elapsed": 996,
     "status": "ok",
     "timestamp": 1573768470211,
     "user": {
      "displayName": "Flemming Morsch",
      "photoUrl": "",
      "userId": "01018764111607282372"
     },
     "user_tz": -60
    },
    "id": "Saapysy_ivkr",
    "outputId": "3f634ae7-13ad-4b8d-c785-ace39aa8ab6a",
    "scrolled": true
   },
   "outputs": [
    {
     "name": "stdout",
     "output_type": "stream",
     "text": [
      "_________________________________________________________________\n",
      "Layer (type)                 Output Shape              Param #   \n",
      "=================================================================\n",
      "input_1 (InputLayer)         (None, 32, 32, 3)         0         \n",
      "_________________________________________________________________\n",
      "conv2d_1 (Conv2D)            (None, 32, 32, 32)        896       \n",
      "_________________________________________________________________\n",
      "max_pooling2d_1 (MaxPooling2 (None, 16, 16, 32)        0         \n",
      "_________________________________________________________________\n",
      "conv2d_2 (Conv2D)            (None, 16, 16, 64)        18496     \n",
      "_________________________________________________________________\n",
      "max_pooling2d_2 (MaxPooling2 (None, 8, 8, 64)          0         \n",
      "_________________________________________________________________\n",
      "conv2d_3 (Conv2D)            (None, 8, 8, 128)         73856     \n",
      "_________________________________________________________________\n",
      "max_pooling2d_3 (MaxPooling2 (None, 4, 4, 128)         0         \n",
      "_________________________________________________________________\n",
      "conv2d_4 (Conv2D)            (None, 4, 4, 256)         295168    \n",
      "_________________________________________________________________\n",
      "max_pooling2d_4 (MaxPooling2 (None, 2, 2, 256)         0         \n",
      "_________________________________________________________________\n",
      "flatten_1 (Flatten)          (None, 1024)              0         \n",
      "_________________________________________________________________\n",
      "dense_1 (Dense)              (None, 32)                32800     \n",
      "=================================================================\n",
      "Total params: 421,216\n",
      "Trainable params: 421,216\n",
      "Non-trainable params: 0\n",
      "_________________________________________________________________\n",
      "_________________________________________________________________\n",
      "Layer (type)                 Output Shape              Param #   \n",
      "=================================================================\n",
      "input_2 (InputLayer)         (None, 32)                0         \n",
      "_________________________________________________________________\n",
      "dense_2 (Dense)              (None, 1024)              33792     \n",
      "_________________________________________________________________\n",
      "reshape_1 (Reshape)          (None, 2, 2, 256)         0         \n",
      "_________________________________________________________________\n",
      "conv2d_transpose_1 (Conv2DTr (None, 4, 4, 128)         295040    \n",
      "_________________________________________________________________\n",
      "conv2d_transpose_2 (Conv2DTr (None, 8, 8, 64)          73792     \n",
      "_________________________________________________________________\n",
      "conv2d_transpose_3 (Conv2DTr (None, 16, 16, 32)        18464     \n",
      "_________________________________________________________________\n",
      "conv2d_transpose_4 (Conv2DTr (None, 32, 32, 3)         867       \n",
      "=================================================================\n",
      "Total params: 421,955\n",
      "Trainable params: 421,955\n",
      "Non-trainable params: 0\n",
      "_________________________________________________________________\n"
     ]
    }
   ],
   "source": [
    "# Look at encoder and decoder shapes.\n",
    "# Total number of trainable parameters of encoder and decoder should be close.\n",
    "s = reset_tf_session()\n",
    "encoder, decoder = build_deep_autoencoder(IMG_SHAPE, code_size=32)\n",
    "encoder.summary()\n",
    "decoder.summary()"
   ]
  },
  {
   "cell_type": "markdown",
   "metadata": {
    "colab_type": "text",
    "id": "wuJkacQQivlA"
   },
   "source": [
    "Convolutional autoencoder training. This will take **1 hour**. You're aiming at ~0.0056 validation MSE and ~0.0054 training MSE."
   ]
  },
  {
   "cell_type": "code",
   "execution_count": null,
   "metadata": {
    "ExecuteTime": {
     "end_time": "2018-01-04T16:48:32.365157Z",
     "start_time": "2018-01-04T16:46:03.202875Z"
    },
    "colab": {},
    "colab_type": "code",
    "id": "GrQDrgCWivlH"
   },
   "outputs": [],
   "source": [
    "s = reset_tf_session()\n",
    "\n",
    "encoder, decoder = build_deep_autoencoder(IMG_SHAPE, code_size=32)\n",
    "\n",
    "inp = L.Input(IMG_SHAPE)\n",
    "code = encoder(inp)\n",
    "reconstruction = decoder(code)\n",
    "\n",
    "autoencoder = keras.models.Model(inputs=inp, outputs=reconstruction)\n",
    "autoencoder.compile(optimizer=\"adamax\", loss='mse')"
   ]
  },
  {
   "cell_type": "code",
   "execution_count": null,
   "metadata": {
    "ExecuteTime": {
     "end_time": "2018-01-04T16:48:32.365157Z",
     "start_time": "2018-01-04T16:46:03.202875Z"
    },
    "colab": {},
    "colab_type": "code",
    "id": "9JJhNWPdivlZ"
   },
   "outputs": [],
   "source": [
    "# we will save model checkpoints here to continue training in case of kernel death\n",
    "model_filename = 'autoencoder.{0:03d}.hdf5'\n",
    "last_finished_epoch = None\n",
    "\n",
    "#### uncomment below to continue training from model checkpoint\n",
    "#### fill `last_finished_epoch` with your latest finished epoch\n",
    "# from keras.models import load_model\n",
    "# s = reset_tf_session()\n",
    "# last_finished_epoch = 4\n",
    "# autoencoder = load_model(model_filename.format(last_finished_epoch))\n",
    "# encoder = autoencoder.layers[1]\n",
    "# decoder = autoencoder.layers[2]"
   ]
  },
  {
   "cell_type": "code",
   "execution_count": 131,
   "metadata": {
    "ExecuteTime": {
     "end_time": "2018-01-04T16:48:32.365157Z",
     "start_time": "2018-01-04T16:46:03.202875Z"
    },
    "colab": {
     "base_uri": "https://localhost:8080/",
     "height": 1000
    },
    "colab_type": "code",
    "executionInfo": {
     "elapsed": 185806,
     "status": "ok",
     "timestamp": 1573768664996,
     "user": {
      "displayName": "Flemming Morsch",
      "photoUrl": "",
      "userId": "01018764111607282372"
     },
     "user_tz": -60
    },
    "id": "Xj37T4CCivlq",
    "outputId": "ddc9604a-a86e-4cca-d456-2b1c90d07f46",
    "scrolled": true
   },
   "outputs": [
    {
     "name": "stdout",
     "output_type": "stream",
     "text": [
      "\n",
      "Epoch 1/25\n",
      "**************************************************Model saved in autoencoder.000.hdf5\n",
      "\n",
      "loss: 0.0126; val_loss: 0.0085\n",
      "\n",
      "Epoch 2/25\n",
      "**************************************************Model saved in autoencoder.001.hdf5\n",
      "\n",
      "loss: 0.0078; val_loss: 0.0073\n",
      "\n",
      "Epoch 3/25\n",
      "**************************************************Model saved in autoencoder.002.hdf5\n",
      "\n",
      "loss: 0.0072; val_loss: 0.0071\n",
      "\n",
      "Epoch 4/25\n",
      "**************************************************Model saved in autoencoder.003.hdf5\n",
      "\n",
      "loss: 0.0070; val_loss: 0.0069\n",
      "\n",
      "Epoch 5/25\n",
      "**************************************************Model saved in autoencoder.004.hdf5\n",
      "\n",
      "loss: 0.0069; val_loss: 0.0068\n",
      "\n",
      "Epoch 6/25\n",
      "**************************************************Model saved in autoencoder.005.hdf5\n",
      "\n",
      "loss: 0.0068; val_loss: 0.0067\n",
      "\n",
      "Epoch 7/25\n",
      "**************************************************Model saved in autoencoder.006.hdf5\n",
      "\n",
      "loss: 0.0067; val_loss: 0.0067\n",
      "\n",
      "Epoch 8/25\n",
      "**************************************************Model saved in autoencoder.007.hdf5\n",
      "\n",
      "loss: 0.0067; val_loss: 0.0066\n",
      "\n",
      "Epoch 9/25\n",
      "**************************************************Model saved in autoencoder.008.hdf5\n",
      "\n",
      "loss: 0.0066; val_loss: 0.0065\n",
      "\n",
      "Epoch 10/25\n",
      "**************************************************Model saved in autoencoder.009.hdf5\n",
      "\n",
      "loss: 0.0065; val_loss: 0.0065\n",
      "\n",
      "Epoch 11/25\n",
      "**************************************************Model saved in autoencoder.010.hdf5\n",
      "\n",
      "loss: 0.0064; val_loss: 0.0063\n",
      "\n",
      "Epoch 12/25\n",
      "**************************************************Model saved in autoencoder.011.hdf5\n",
      "\n",
      "loss: 0.0063; val_loss: 0.0063\n",
      "\n",
      "Epoch 13/25\n",
      "**************************************************Model saved in autoencoder.012.hdf5\n",
      "\n",
      "loss: 0.0062; val_loss: 0.0062\n",
      "\n",
      "Epoch 14/25\n",
      "**************************************************Model saved in autoencoder.013.hdf5\n",
      "\n",
      "loss: 0.0061; val_loss: 0.0061\n",
      "\n",
      "Epoch 15/25\n",
      "**************************************************Model saved in autoencoder.014.hdf5\n",
      "\n",
      "loss: 0.0060; val_loss: 0.0060\n",
      "\n",
      "Epoch 16/25\n",
      "**************************************************Model saved in autoencoder.015.hdf5\n",
      "\n",
      "loss: 0.0059; val_loss: 0.0060\n",
      "\n",
      "Epoch 17/25\n",
      "**************************************************Model saved in autoencoder.016.hdf5\n",
      "\n",
      "loss: 0.0058; val_loss: 0.0059\n",
      "\n",
      "Epoch 18/25\n",
      "**************************************************Model saved in autoencoder.017.hdf5\n",
      "\n",
      "loss: 0.0058; val_loss: 0.0058\n",
      "\n",
      "Epoch 19/25\n",
      "**************************************************Model saved in autoencoder.018.hdf5\n",
      "\n",
      "loss: 0.0057; val_loss: 0.0058\n",
      "\n",
      "Epoch 20/25\n",
      "**************************************************Model saved in autoencoder.019.hdf5\n",
      "\n",
      "loss: 0.0056; val_loss: 0.0058\n",
      "\n",
      "Epoch 21/25\n",
      "**************************************************Model saved in autoencoder.020.hdf5\n",
      "\n",
      "loss: 0.0056; val_loss: 0.0057\n",
      "\n",
      "Epoch 22/25\n",
      "**************************************************Model saved in autoencoder.021.hdf5\n",
      "\n",
      "loss: 0.0055; val_loss: 0.0056\n",
      "\n",
      "Epoch 23/25\n",
      "**************************************************Model saved in autoencoder.022.hdf5\n",
      "\n",
      "loss: 0.0055; val_loss: 0.0056\n",
      "\n",
      "Epoch 24/25\n",
      "**************************************************Model saved in autoencoder.023.hdf5\n",
      "\n",
      "loss: 0.0054; val_loss: 0.0056\n",
      "\n",
      "Epoch 25/25\n",
      "**************************************************Model saved in autoencoder.024.hdf5\n",
      "\n",
      "loss: 0.0054; val_loss: 0.0056\n"
     ]
    },
    {
     "data": {
      "text/plain": [
       "<keras.callbacks.History at 0x7f474eb58ba8>"
      ]
     },
     "execution_count": 131,
     "metadata": {
      "tags": []
     },
     "output_type": "execute_result"
    }
   ],
   "source": [
    "autoencoder.fit(x=X_train, y=X_train, epochs=25,\n",
    "                validation_data=[X_test, X_test],\n",
    "                callbacks=[keras_utils.ModelSaveCallback(model_filename),\n",
    "                           keras_utils.TqdmProgressCallback()],\n",
    "                verbose=0,\n",
    "                initial_epoch=last_finished_epoch or 0)"
   ]
  },
  {
   "cell_type": "code",
   "execution_count": 132,
   "metadata": {
    "ExecuteTime": {
     "end_time": "2018-01-04T16:49:25.084704Z",
     "start_time": "2018-01-04T16:49:23.236568Z"
    },
    "colab": {
     "base_uri": "https://localhost:8080/",
     "height": 1000
    },
    "colab_type": "code",
    "executionInfo": {
     "elapsed": 3774,
     "status": "ok",
     "timestamp": 1573768714944,
     "user": {
      "displayName": "Flemming Morsch",
      "photoUrl": "",
      "userId": "01018764111607282372"
     },
     "user_tz": -60
    },
    "id": "TCOPqtRpivmB",
    "outputId": "7443e5c4-697a-46ef-b120-5270333229d2",
    "scrolled": true
   },
   "outputs": [
    {
     "name": "stdout",
     "output_type": "stream",
     "text": [
      "Convolutional autoencoder MSE: 0.005585310138592022\n"
     ]
    },
    {
     "data": {
      "image/png": "[encoded data removed]",
      "text/plain": [
       "<Figure size 432x288 with 3 Axes>"
      ]
     },
     "metadata": {
      "tags": []
     },
     "output_type": "display_data"
    },
    {
     "data": {
      "image/png": "[encoded data removed]",
      "text/plain": [
       "<Figure size 432x288 with 3 Axes>"
      ]
     },
     "metadata": {
      "tags": []
     },
     "output_type": "display_data"
    },
    {
     "data": {
      "image/png": "[encoded data removed]",
      "text/plain": [
       "<Figure size 432x288 with 3 Axes>"
      ]
     },
     "metadata": {
      "tags": []
     },
     "output_type": "display_data"
    },
    {
     "data": {
      "image/png": "[encoded data removed]",
      "text/plain": [
       "<Figure size 432x288 with 3 Axes>"
      ]
     },
     "metadata": {
      "tags": []
     },
     "output_type": "display_data"
    },
    {
     "data": {
      "image/png": "[encoded data removed]",
      "text/plain": [
       "<Figure size 432x288 with 3 Axes>"
      ]
     },
     "metadata": {
      "tags": []
     },
     "output_type": "display_data"
    }
   ],
   "source": [
    "reconstruction_mse = autoencoder.evaluate(X_test, X_test, verbose=0)\n",
    "print(\"Convolutional autoencoder MSE:\", reconstruction_mse)\n",
    "for i in range(5):\n",
    "    img = X_test[i]\n",
    "    visualize(img,encoder,decoder)"
   ]
  },
  {
   "cell_type": "code",
   "execution_count": null,
   "metadata": {
    "ExecuteTime": {
     "end_time": "2018-01-04T16:49:54.273061Z",
     "start_time": "2018-01-04T16:49:54.230656Z"
    },
    "colab": {},
    "colab_type": "code",
    "id": "-RuCOB78ivmU"
   },
   "outputs": [],
   "source": [
    "# save trained weights\n",
    "encoder.save_weights(\"encoder.h5\")\n",
    "decoder.save_weights(\"decoder.h5\")"
   ]
  },
  {
   "cell_type": "code",
   "execution_count": 134,
   "metadata": {
    "ExecuteTime": {
     "end_time": "2018-01-04T16:50:01.657093Z",
     "start_time": "2018-01-04T16:50:01.067976Z"
    },
    "colab": {
     "base_uri": "https://localhost:8080/",
     "height": 54
    },
    "colab_type": "code",
    "executionInfo": {
     "elapsed": 1605,
     "status": "ok",
     "timestamp": 1573768723843,
     "user": {
      "displayName": "Flemming Morsch",
      "photoUrl": "",
      "userId": "01018764111607282372"
     },
     "user_tz": -60
    },
    "id": "zeQAt0bmivmp",
    "outputId": "89349af7-aee4-4b43-f73d-f6c636d30c2c"
   },
   "outputs": [
    {
     "name": "stdout",
     "output_type": "stream",
     "text": [
      "0.005585310070601933\n",
      "0.005585310138592022\n"
     ]
    }
   ],
   "source": [
    "# restore trained weights\n",
    "s = reset_tf_session()\n",
    "\n",
    "encoder, decoder = build_deep_autoencoder(IMG_SHAPE, code_size=32)\n",
    "encoder.load_weights(\"encoder.h5\")\n",
    "decoder.load_weights(\"decoder.h5\")\n",
    "\n",
    "inp = L.Input(IMG_SHAPE)\n",
    "code = encoder(inp)\n",
    "reconstruction = decoder(code)\n",
    "\n",
    "autoencoder = keras.models.Model(inputs=inp, outputs=reconstruction)\n",
    "autoencoder.compile(optimizer=\"adamax\", loss='mse')\n",
    "\n",
    "print(autoencoder.evaluate(X_test, X_test, verbose=0))\n",
    "print(reconstruction_mse)"
   ]
  }
 ],
 "metadata": {
  "accelerator": "GPU",
  "colab": {
   "name": "Copy of Autoencoders-task.ipynb",
   "provenance": [
    {
     "file_id": "https://github.com/hse-aml/intro-to-dl/blob/master/week4/Autoencoders-task.ipynb",
     "timestamp": 1573762493423
    }
   ]
  },
  "kernelspec": {
   "display_name": "Python 3",
   "language": "python",
   "name": "python3"
  },
  "language_info": {
   "codemirror_mode": {
    "name": "ipython",
    "version": 3
   },
   "file_extension": ".py",
   "mimetype": "text/x-python",
   "name": "python",
   "nbconvert_exporter": "python",
   "pygments_lexer": "ipython3",
   "version": "3.7.3"
  },
  "toc": {
   "colors": {
    "hover_highlight": "#DAA520",
    "navigate_num": "#000000",
    "navigate_text": "#333333",
    "running_highlight": "#FF0000",
    "selected_highlight": "#FFD700",
    "sidebar_border": "#EEEEEE",
    "wrapper_background": "#FFFFFF"
   },
   "moveMenuLeft": true,
   "nav_menu": {
    "height": "192px",
    "width": "252px"
   },
   "navigate_menu": true,
   "number_sections": true,
   "sideBar": true,
   "threshold": 4,
   "toc_cell": false,
   "toc_section_display": "block",
   "toc_window_display": false,
   "widenNotebook": false
  }
 },
 "nbformat": 4,
 "nbformat_minor": 4
}
